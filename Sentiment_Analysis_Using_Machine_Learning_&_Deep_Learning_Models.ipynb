{
  "nbformat": 4,
  "nbformat_minor": 0,
  "metadata": {
    "colab": {
      "provenance": [],
      "toc_visible": true
    },
    "kernelspec": {
      "name": "python3",
      "display_name": "Python 3"
    },
    "language_info": {
      "name": "python"
    }
  },
  "cells": [
    {
      "cell_type": "code",
      "execution_count": null,
      "metadata": {
        "id": "Mez2Sq2O6o7E"
      },
      "outputs": [],
      "source": [
        "pip install pandas numpy scikit-learn nltk spacy tensorflow torch transformers fastapi uvicorn\n",
        "python -m spacy download en_core_web_sm\n"
      ]
    },
    {
      "cell_type": "code",
      "source": [
        "import pandas as pd\n",
        "import re\n",
        "import nltk\n",
        "import spacy\n",
        "from nltk.corpus import stopwords\n",
        "from nltk.stem import WordNetLemmatizer\n",
        "from sklearn.model_selection import train_test_split\n",
        "from sklearn.feature_extraction.text import TfidfVectorizer\n",
        "\n",
        "# Load IMDB dataset\n",
        "df = pd.read_csv(\"IMDB Dataset.csv\")\n",
        "\n",
        "# Download necessary NLTK resources\n",
        "nltk.download('stopwords')\n",
        "nltk.download('wordnet')\n",
        "\n",
        "# Initialize NLTK Lemmatizer and SpaCy\n",
        "lemmatizer = WordNetLemmatizer()\n",
        "nlp = spacy.load(\"en_core_web_sm\")\n",
        "\n",
        "# Preprocessing function\n",
        "def preprocess_text(text):\n",
        "    text = re.sub('<.*?>', '', text)  # Remove HTML tags\n",
        "    text = re.sub(r'\\W', ' ', text.lower())  # Remove punctuation and lowercase\n",
        "    doc = nlp(text)\n",
        "    words = [token.lemma_ for token in doc if not token.is_stop]  # Lemmatization & stopword removal\n",
        "    return ' '.join(words)\n",
        "\n",
        "# Apply preprocessing to reviews\n",
        "df['review'] = df['review'].apply(preprocess_text)\n",
        "\n",
        "# Split data into training and testing sets\n",
        "X_train, X_test, y_train, y_test = train_test_split(df['review'], df['sentiment'], test_size=0.2, random_state=42)\n",
        "\n",
        "# Apply TF-IDF vectorization\n",
        "vectorizer = TfidfVectorizer(max_features=5000)\n",
        "X_train_tfidf = vectorizer.fit_transform(X_train)\n",
        "X_test_tfidf = vectorizer.transform(X_test)\n"
      ],
      "metadata": {
        "id": "G3xmfCkC_Non"
      },
      "execution_count": null,
      "outputs": []
    },
    {
      "cell_type": "code",
      "source": [
        "from sklearn.svm import SVC\n",
        "from sklearn.metrics import accuracy_score\n",
        "\n",
        "# SVM Model\n",
        "svm_model = SVC(kernel='linear', random_state=42)\n",
        "svm_model.fit(X_train_tfidf, y_train)\n",
        "\n",
        "# Predict and evaluate\n",
        "y_pred_svm = svm_model.predict(X_test_tfidf)\n",
        "svm_accuracy = accuracy_score(y_test, y_pred_svm)\n",
        "print(f\"SVM Accuracy: {svm_accuracy}\")\n"
      ],
      "metadata": {
        "id": "0zpM-kSY_UfR"
      },
      "execution_count": null,
      "outputs": []
    },
    {
      "cell_type": "code",
      "source": [
        "from sklearn.ensemble import RandomForestClassifier\n",
        "\n",
        "# Random Forest Model\n",
        "rf_model = RandomForestClassifier(random_state=42)\n",
        "rf_model.fit(X_train_tfidf, y_train)\n",
        "\n",
        "# Predict and evaluate\n",
        "y_pred_rf = rf_model.predict(X_test_tfidf)\n",
        "rf_accuracy = accuracy_score(y_test, y_pred_rf)\n",
        "print(f\"Random Forest Accuracy: {rf_accuracy}\")\n"
      ],
      "metadata": {
        "id": "d727dISf_bIj"
      },
      "execution_count": null,
      "outputs": []
    },
    {
      "cell_type": "code",
      "source": [
        "import tensorflow as tf\n",
        "from tensorflow.keras.models import Sequential\n",
        "from tensorflow.keras.layers import Embedding, LSTM, Dense, Dropout\n",
        "from tensorflow.keras.preprocessing.text import Tokenizer\n",
        "from tensorflow.keras.preprocessing.sequence import pad_sequences\n",
        "\n",
        "# Tokenize and pad sequences\n",
        "tokenizer = Tokenizer(num_words=5000)\n",
        "tokenizer.fit_on_texts(X_train)\n",
        "X_train_seq = tokenizer.texts_to_sequences(X_train)\n",
        "X_test_seq = tokenizer.texts_to_sequences(X_test)\n",
        "\n",
        "X_train_pad = pad_sequences(X_train_seq, maxlen=200)\n",
        "X_test_pad = pad_sequences(X_test_seq, maxlen=200)\n",
        "\n",
        "# LSTM Model\n",
        "lstm_model = Sequential([\n",
        "    Embedding(5000, 128, input_length=200),\n",
        "    LSTM(128, dropout=0.2, recurrent_dropout=0.2),\n",
        "    Dense(1, activation='sigmoid')\n",
        "])\n",
        "\n",
        "lstm_model.compile(loss='binary_crossentropy', optimizer='adam', metrics=['accuracy'])\n",
        "lstm_model.fit(X_train_pad, y_train, epochs=3, batch_size=64, validation_data=(X_test_pad, y_test))\n",
        "\n",
        "# Evaluate LSTM Model\n",
        "lstm_accuracy = lstm_model.evaluate(X_test_pad, y_test)\n",
        "print(f\"LSTM Accuracy: {lstm_accuracy[1]}\")\n"
      ],
      "metadata": {
        "id": "EIDAaLsI_euT"
      },
      "execution_count": null,
      "outputs": []
    },
    {
      "cell_type": "code",
      "source": [
        "from tensorflow.keras.layers import GRU\n",
        "\n",
        "# GRU Model\n",
        "gru_model = Sequential([\n",
        "    Embedding(5000, 128, input_length=200),\n",
        "    GRU(128, dropout=0.2, recurrent_dropout=0.2),\n",
        "    Dense(1, activation='sigmoid')\n",
        "])\n",
        "\n",
        "gru_model.compile(loss='binary_crossentropy', optimizer='adam', metrics=['accuracy'])\n",
        "gru_model.fit(X_train_pad, y_train, epochs=3, batch_size=64, validation_data=(X_test_pad, y_test))\n",
        "\n",
        "# Evaluate GRU Model\n",
        "gru_accuracy = gru_model.evaluate(X_test_pad, y_test)\n",
        "print(f\"GRU Accuracy: {gru_accuracy[1]}\")\n"
      ],
      "metadata": {
        "id": "7rVicDKb_jMQ"
      },
      "execution_count": null,
      "outputs": []
    },
    {
      "cell_type": "code",
      "source": [
        "from transformers import BertTokenizer, TFBertForSequenceClassification\n",
        "from tensorflow.keras.optimizers import Adam\n",
        "\n",
        "# Load pre-trained BERT model and tokenizer\n",
        "tokenizer_bert = BertTokenizer.from_pretrained('bert-base-uncased')\n",
        "model_bert = TFBertForSequenceClassification.from_pretrained('bert-base-uncased', num_labels=2)\n",
        "\n",
        "# Tokenize and encode the data for BERT\n",
        "def encode_bert(texts):\n",
        "    return tokenizer_bert(texts.tolist(), padding=True, truncation=True, max_length=512, return_tensors='tf')\n",
        "\n",
        "X_train_bert = encode_bert(X_train)\n",
        "X_test_bert = encode_bert(X_test)\n",
        "\n",
        "# Compile the BERT model\n",
        "model_bert.compile(optimizer=Adam(learning_rate=1e-5), loss='sparse_categorical_crossentropy', metrics=['accuracy'])\n",
        "\n",
        "# Train BERT Model\n",
        "model_bert.fit(X_train_bert, y_train, epochs=3, batch_size=8, validation_data=(X_test_bert, y_test))\n",
        "\n",
        "# Evaluate BERT Model\n",
        "bert_accuracy = model_bert.evaluate(X_test_bert, y_test)\n",
        "print(f\"BERT Accuracy: {bert_accuracy[1]}\")\n"
      ],
      "metadata": {
        "id": "rQFspmK-_n54"
      },
      "execution_count": null,
      "outputs": []
    }
  ]
}